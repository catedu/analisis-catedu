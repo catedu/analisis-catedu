{
 "cells": [
  {
   "cell_type": "markdown",
   "metadata": {},
   "source": [
    "# Creando las estadísticas de los contenidos de CATEDU\n",
    "\n",
    "### Importando los datos\n",
    "\n",
    "_El número de páginas lo saco en local con el siguiente código bash:_\n",
    "\n",
    "```bash\n",
    "tree | grep -c .md$\n",
    "```\n"
   ]
  },
  {
   "cell_type": "code",
   "execution_count": null,
   "metadata": {},
   "outputs": [],
   "source": [
    "# Recabo la información inicial de los libros:\n",
    "# * Título de los libros\n",
    "# * Repos\n",
    "# * nº de commits\n",
    "# * Si tienen o no colaboradores\n",
    "\n",
    "import requests\n",
    "import json\n",
    "\n",
    "password = getpass()\n",
    "num_of_pages = 6708\n",
    "\n",
    "r = requests.get('https://api.gitbook.com/author/catedu/books?limit=100', auth=('deleyva', password))\n",
    "with open('books.json', 'w') as file:\n",
    "    file.write(r.text)\n"
   ]
  },
  {
   "cell_type": "code",
   "execution_count": null,
   "metadata": {},
   "outputs": [],
   "source": [
    "# Recabo la información sobre el tráfico de cada libro\n",
    "\n",
    "# Cargo la info los libros en un diccionario\n",
    "import time\n",
    "\n",
    "password = getpass()\n",
    "with open('books.json', 'r') as infile, open('traffic.json', 'w') as outfile:\n",
    "    data = json.load(infile)\n",
    "    \n",
    "    \n",
    "    trafico_libros = {}\n",
    "    counter = 0\n",
    "    for libro in data['list']:\n",
    "        book = {}\n",
    "        traffic_url = 'https://api.gitbook.com/book/catedu/' + libro['name'] + '/traffic?period=1year'\n",
    "        platforms_url = 'https://api.gitbook.com/book/catedu/' + libro['name'] + '/traffic/platforms?period=1year'\n",
    "        book['title'] = str(libro['title'])º\n",
    "        print(book['title'])\n",
    "        book['traffic'] = requests.get(traffic_url, auth=('deleyva', password)).json()\n",
    "        book['platforms'] = requests.get(platforms_url, auth=('deleyva', password)).json()\n",
    "        trafico_libros[counter] = book\n",
    "        counter += 1\n",
    "        time.sleep(5)\n",
    "    \n",
    "    json.dump(trafico_libros, outfile)"
   ]
  },
  {
   "cell_type": "code",
   "execution_count": 88,
   "metadata": {},
   "outputs": [
    {
     "name": "stdout",
     "output_type": "stream",
     "text": [
      "Curso básico de hojas de cálculo\n"
     ]
    }
   ],
   "source": [
    "with open('traffic.json', 'r') as infile:\n",
    "    data = json.load(infile)\n",
    "    \n",
    "    print(data['9']['title'])"
   ]
  },
  {
   "cell_type": "code",
   "execution_count": 10,
   "metadata": {},
   "outputs": [
    {
     "name": "stderr",
     "output_type": "stream",
     "text": [
      "/home/jesus/Documentos/analisis-catedu/venv/lib/python3.6/site-packages/bokeh/models/sources.py:110: BokehUserWarning: ColumnDataSource's columns must be of the same length. Current lengths: ('x', 10), ('y', 73)\n",
      "  \"Current lengths: %s\" % \", \".join(sorted(str((k, len(v))) for k, v in data.items())), BokehUserWarning))\n"
     ]
    },
    {
     "data": {
      "text/html": [
       "\n",
       "<div class=\"bk-root\">\n",
       "    <div class=\"bk-plotdiv\" id=\"46741391-2939-4c2e-bd18-b71cdc7d2a83\"></div>\n",
       "</div>"
      ]
     },
     "metadata": {},
     "output_type": "display_data"
    },
    {
     "data": {
      "application/javascript": [
       "(function(root) {\n",
       "  function embed_document(root) {\n",
       "    \n",
       "  var docs_json = {\"8c4b1632-53cb-4137-9a7f-4f2d2f80cf76\":{\"roots\":{\"references\":[{\"attributes\":{\"callback\":null,\"data\":{\"x\":[1,2,3,4,5,6,7,8,8,10],\"y\":[3,4,22,1,12,18,7,9,55,12,14,23,12,5,6,3,40,10,5,44,3,21,11,0,8,30,7,16,7,7,426,3,12,3,2,5,11,6,4,5,29,7,17,13,32,12,97,24,12,18,16,13,6,49,4,3,3,1,108,154,3,39,49,42,24,18,17,11,52,6,10,4,3]},\"selected\":{\"id\":\"9046f317-46d1-4014-a072-3f8a05299a2b\",\"type\":\"Selection\"},\"selection_policy\":{\"id\":\"56558e98-ed40-496c-aa3d-5b1d7401fefe\",\"type\":\"UnionRenderers\"}},\"id\":\"253fe360-9e38-4bc1-9ecb-fee4787f357b\",\"type\":\"ColumnDataSource\"},{\"attributes\":{},\"id\":\"ac04ba2c-372f-4b7e-8957-5462ff8607e7\",\"type\":\"HelpTool\"},{\"attributes\":{\"active_drag\":\"auto\",\"active_inspect\":\"auto\",\"active_scroll\":\"auto\",\"active_tap\":\"auto\",\"tools\":[{\"id\":\"a6fefbfc-5b22-42f3-a127-700e0ff8ea96\",\"type\":\"PanTool\"},{\"id\":\"c97d034a-3333-4423-b59c-1ae9706551ff\",\"type\":\"WheelZoomTool\"},{\"id\":\"1005a03f-1503-437f-b36f-a6710ced7184\",\"type\":\"BoxZoomTool\"},{\"id\":\"71106a7e-1b18-4761-9a0f-45e2f3825694\",\"type\":\"SaveTool\"},{\"id\":\"f1f3df98-75b8-4081-ad6f-a670739f2b75\",\"type\":\"ResetTool\"},{\"id\":\"ac04ba2c-372f-4b7e-8957-5462ff8607e7\",\"type\":\"HelpTool\"}]},\"id\":\"188f6fff-e907-4211-9261-657bcf362930\",\"type\":\"Toolbar\"},{\"attributes\":{\"items\":[{\"id\":\"c7eca635-b6be-4cf0-abeb-9104fccc5d6c\",\"type\":\"LegendItem\"}],\"plot\":{\"id\":\"7bad4684-e113-4360-9294-54626a4615c7\",\"subtype\":\"Figure\",\"type\":\"Plot\"}},\"id\":\"c12a5af1-538c-44a1-b228-5bfc0bb5b37b\",\"type\":\"Legend\"},{\"attributes\":{\"plot\":null,\"text\":\"N\\u00famero de actualizaciones\"},\"id\":\"cbb3aa94-3285-49bd-a907-d021e79781f4\",\"type\":\"Title\"},{\"attributes\":{},\"id\":\"e07df45a-ee90-447b-be55-aa8fa2004402\",\"type\":\"BasicTickFormatter\"},{\"attributes\":{\"axis_label\":\"Tiempo\",\"formatter\":{\"id\":\"e07df45a-ee90-447b-be55-aa8fa2004402\",\"type\":\"BasicTickFormatter\"},\"plot\":{\"id\":\"7bad4684-e113-4360-9294-54626a4615c7\",\"subtype\":\"Figure\",\"type\":\"Plot\"},\"ticker\":{\"id\":\"920aadc2-9d78-4b26-86e2-3b407d956898\",\"type\":\"BasicTicker\"}},\"id\":\"4b1fd232-0506-4d9b-831b-0ab6f055b4a3\",\"type\":\"LinearAxis\"},{\"attributes\":{\"fill_color\":{\"value\":\"#1f77b4\"},\"line_color\":{\"value\":\"#1f77b4\"},\"x\":{\"field\":\"x\"},\"y\":{\"field\":\"y\"}},\"id\":\"ef28581b-150b-40db-938a-8b19f7a5d511\",\"type\":\"Circle\"},{\"attributes\":{},\"id\":\"a6fefbfc-5b22-42f3-a127-700e0ff8ea96\",\"type\":\"PanTool\"},{\"attributes\":{\"overlay\":{\"id\":\"947d2ab9-97f4-474b-b3ea-2d8346aaf2b1\",\"type\":\"BoxAnnotation\"}},\"id\":\"1005a03f-1503-437f-b36f-a6710ced7184\",\"type\":\"BoxZoomTool\"},{\"attributes\":{\"plot\":{\"id\":\"7bad4684-e113-4360-9294-54626a4615c7\",\"subtype\":\"Figure\",\"type\":\"Plot\"},\"ticker\":{\"id\":\"920aadc2-9d78-4b26-86e2-3b407d956898\",\"type\":\"BasicTicker\"}},\"id\":\"e98a1ed6-a48a-46bd-88a2-361e07146d85\",\"type\":\"Grid\"},{\"attributes\":{},\"id\":\"920aadc2-9d78-4b26-86e2-3b407d956898\",\"type\":\"BasicTicker\"},{\"attributes\":{},\"id\":\"4f97bbbb-d761-4e92-84cd-575c42e9d729\",\"type\":\"BasicTicker\"},{\"attributes\":{},\"id\":\"d3787c11-f882-4a70-820f-e2f7019a0e3c\",\"type\":\"BasicTickFormatter\"},{\"attributes\":{\"below\":[{\"id\":\"4b1fd232-0506-4d9b-831b-0ab6f055b4a3\",\"type\":\"LinearAxis\"}],\"left\":[{\"id\":\"90280bc3-8742-45a5-bc1a-d1931807761c\",\"type\":\"LinearAxis\"}],\"renderers\":[{\"id\":\"4b1fd232-0506-4d9b-831b-0ab6f055b4a3\",\"type\":\"LinearAxis\"},{\"id\":\"e98a1ed6-a48a-46bd-88a2-361e07146d85\",\"type\":\"Grid\"},{\"id\":\"90280bc3-8742-45a5-bc1a-d1931807761c\",\"type\":\"LinearAxis\"},{\"id\":\"81b624d5-64b4-4493-9a68-8cc85c68b9f5\",\"type\":\"Grid\"},{\"id\":\"947d2ab9-97f4-474b-b3ea-2d8346aaf2b1\",\"type\":\"BoxAnnotation\"},{\"id\":\"c12a5af1-538c-44a1-b228-5bfc0bb5b37b\",\"type\":\"Legend\"},{\"id\":\"7920ce14-511e-4000-9a92-8e17da0f9e8e\",\"type\":\"GlyphRenderer\"}],\"title\":{\"id\":\"cbb3aa94-3285-49bd-a907-d021e79781f4\",\"type\":\"Title\"},\"toolbar\":{\"id\":\"188f6fff-e907-4211-9261-657bcf362930\",\"type\":\"Toolbar\"},\"x_range\":{\"id\":\"fd821855-8dc0-47c3-a3a9-2edfceed6e25\",\"type\":\"DataRange1d\"},\"x_scale\":{\"id\":\"1dfc9c21-0b47-4a34-9032-1db90a19b50b\",\"type\":\"LinearScale\"},\"y_range\":{\"id\":\"5c28efa3-eb42-49fe-b3d0-d1d63dbf7370\",\"type\":\"DataRange1d\"},\"y_scale\":{\"id\":\"7223bbec-3ae7-47e9-93d6-a803bd119c6e\",\"type\":\"LinearScale\"}},\"id\":\"7bad4684-e113-4360-9294-54626a4615c7\",\"subtype\":\"Figure\",\"type\":\"Plot\"},{\"attributes\":{\"data_source\":{\"id\":\"253fe360-9e38-4bc1-9ecb-fee4787f357b\",\"type\":\"ColumnDataSource\"},\"glyph\":{\"id\":\"ef28581b-150b-40db-938a-8b19f7a5d511\",\"type\":\"Circle\"},\"hover_glyph\":null,\"muted_glyph\":null,\"nonselection_glyph\":{\"id\":\"e9757564-2dcf-4644-aeba-3110871afd55\",\"type\":\"Circle\"},\"selection_glyph\":null,\"view\":{\"id\":\"60fdab33-a559-4efc-8a31-3652a1572d74\",\"type\":\"CDSView\"}},\"id\":\"7920ce14-511e-4000-9a92-8e17da0f9e8e\",\"type\":\"GlyphRenderer\"},{\"attributes\":{\"source\":{\"id\":\"253fe360-9e38-4bc1-9ecb-fee4787f357b\",\"type\":\"ColumnDataSource\"}},\"id\":\"60fdab33-a559-4efc-8a31-3652a1572d74\",\"type\":\"CDSView\"},{\"attributes\":{},\"id\":\"7223bbec-3ae7-47e9-93d6-a803bd119c6e\",\"type\":\"LinearScale\"},{\"attributes\":{},\"id\":\"f1f3df98-75b8-4081-ad6f-a670739f2b75\",\"type\":\"ResetTool\"},{\"attributes\":{\"fill_alpha\":{\"value\":0.1},\"fill_color\":{\"value\":\"#1f77b4\"},\"line_alpha\":{\"value\":0.1},\"line_color\":{\"value\":\"#1f77b4\"},\"x\":{\"field\":\"x\"},\"y\":{\"field\":\"y\"}},\"id\":\"e9757564-2dcf-4644-aeba-3110871afd55\",\"type\":\"Circle\"},{\"attributes\":{},\"id\":\"56558e98-ed40-496c-aa3d-5b1d7401fefe\",\"type\":\"UnionRenderers\"},{\"attributes\":{\"label\":{\"value\":\"Actualizaciones\"},\"renderers\":[{\"id\":\"7920ce14-511e-4000-9a92-8e17da0f9e8e\",\"type\":\"GlyphRenderer\"}]},\"id\":\"c7eca635-b6be-4cf0-abeb-9104fccc5d6c\",\"type\":\"LegendItem\"},{\"attributes\":{},\"id\":\"1dfc9c21-0b47-4a34-9032-1db90a19b50b\",\"type\":\"LinearScale\"},{\"attributes\":{\"dimension\":1,\"plot\":{\"id\":\"7bad4684-e113-4360-9294-54626a4615c7\",\"subtype\":\"Figure\",\"type\":\"Plot\"},\"ticker\":{\"id\":\"4f97bbbb-d761-4e92-84cd-575c42e9d729\",\"type\":\"BasicTicker\"}},\"id\":\"81b624d5-64b4-4493-9a68-8cc85c68b9f5\",\"type\":\"Grid\"},{\"attributes\":{\"axis_label\":\"Actualizaciones\",\"formatter\":{\"id\":\"d3787c11-f882-4a70-820f-e2f7019a0e3c\",\"type\":\"BasicTickFormatter\"},\"plot\":{\"id\":\"7bad4684-e113-4360-9294-54626a4615c7\",\"subtype\":\"Figure\",\"type\":\"Plot\"},\"ticker\":{\"id\":\"4f97bbbb-d761-4e92-84cd-575c42e9d729\",\"type\":\"BasicTicker\"}},\"id\":\"90280bc3-8742-45a5-bc1a-d1931807761c\",\"type\":\"LinearAxis\"},{\"attributes\":{},\"id\":\"9046f317-46d1-4014-a072-3f8a05299a2b\",\"type\":\"Selection\"},{\"attributes\":{\"callback\":null},\"id\":\"5c28efa3-eb42-49fe-b3d0-d1d63dbf7370\",\"type\":\"DataRange1d\"},{\"attributes\":{\"bottom_units\":\"screen\",\"fill_alpha\":{\"value\":0.5},\"fill_color\":{\"value\":\"lightgrey\"},\"left_units\":\"screen\",\"level\":\"overlay\",\"line_alpha\":{\"value\":1.0},\"line_color\":{\"value\":\"black\"},\"line_dash\":[4,4],\"line_width\":{\"value\":2},\"plot\":null,\"render_mode\":\"css\",\"right_units\":\"screen\",\"top_units\":\"screen\"},\"id\":\"947d2ab9-97f4-474b-b3ea-2d8346aaf2b1\",\"type\":\"BoxAnnotation\"},{\"attributes\":{},\"id\":\"71106a7e-1b18-4761-9a0f-45e2f3825694\",\"type\":\"SaveTool\"},{\"attributes\":{\"callback\":null},\"id\":\"fd821855-8dc0-47c3-a3a9-2edfceed6e25\",\"type\":\"DataRange1d\"},{\"attributes\":{},\"id\":\"c97d034a-3333-4423-b59c-1ae9706551ff\",\"type\":\"WheelZoomTool\"}],\"root_ids\":[\"7bad4684-e113-4360-9294-54626a4615c7\"]},\"title\":\"Bokeh Application\",\"version\":\"0.12.16\"}};\n",
       "  var render_items = [{\"docid\":\"8c4b1632-53cb-4137-9a7f-4f2d2f80cf76\",\"elementid\":\"46741391-2939-4c2e-bd18-b71cdc7d2a83\",\"modelid\":\"7bad4684-e113-4360-9294-54626a4615c7\"}];\n",
       "  root.Bokeh.embed.embed_items_notebook(docs_json, render_items);\n",
       "\n",
       "  }\n",
       "  if (root.Bokeh !== undefined) {\n",
       "    embed_document(root);\n",
       "  } else {\n",
       "    var attempts = 0;\n",
       "    var timer = setInterval(function(root) {\n",
       "      if (root.Bokeh !== undefined) {\n",
       "        embed_document(root);\n",
       "        clearInterval(timer);\n",
       "      }\n",
       "      attempts++;\n",
       "      if (attempts > 100) {\n",
       "        console.log(\"Bokeh: ERROR: Unable to run BokehJS code because BokehJS library is missing\")\n",
       "        clearInterval(timer);\n",
       "      }\n",
       "    }, 10, root)\n",
       "  }\n",
       "})(window);"
      ],
      "application/vnd.bokehjs_exec.v0+json": ""
     },
     "metadata": {
      "application/vnd.bokehjs_exec.v0+json": {
       "id": "7bad4684-e113-4360-9294-54626a4615c7"
      }
     },
     "output_type": "display_data"
    }
   ],
   "source": [
    "import pandas as pd\n",
    "from bokeh.io import output_file, show\n",
    "from bokeh.plotting import figure\n",
    "from bokeh.models import CategoricalColorMapper, HoverTool\n",
    "from bokeh.models.widgets import Tabs, Panel\n",
    "import json\n",
    "import numpy as np\n",
    "\n",
    "titles = []\n",
    "commits = []\n",
    "with open('books.json', 'r') as infile:\n",
    "    data_books = json.load(infile)\n",
    "    for title in data_books['list']:\n",
    "        titles.append(title['title'])\n",
    "        commits.append(title['counts']['updates'])\n",
    "\n",
    "p = figure(title='Número de actualizaciones',\n",
    "          x_axis_label='Tiempo',\n",
    "          y_axis_label='Actualizaciones')\n",
    "p.circle(np.array([1,2,3,4,5,6,7,8,8,10]), commits, legend=\"Actualizaciones\")\n",
    "show(p)"
   ]
  }
 ],
 "metadata": {
  "kernelspec": {
   "display_name": "Python 3",
   "language": "python",
   "name": "python3"
  },
  "language_info": {
   "codemirror_mode": {
    "name": "ipython",
    "version": 3
   },
   "file_extension": ".py",
   "mimetype": "text/x-python",
   "name": "python",
   "nbconvert_exporter": "python",
   "pygments_lexer": "ipython3",
   "version": "3.6.5"
  }
 },
 "nbformat": 4,
 "nbformat_minor": 2
}
