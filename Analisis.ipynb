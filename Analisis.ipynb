{
 "cells": [
  {
   "cell_type": "markdown",
   "metadata": {},
   "source": [
    "# Creando las estadísticas de los contenidos de CATEDU\n",
    "\n",
    "### Importando los datos\n",
    "\n",
    "_El número de páginas lo saco en local con el siguiente código bash:_\n",
    "\n",
    "```bash\n",
    "tree | grep -c .md$\n",
    "```\n"
   ]
  },
  {
   "cell_type": "code",
   "execution_count": null,
   "metadata": {},
   "outputs": [],
   "source": [
    "# Recabo la información inicial de los libros:\n",
    "# * Título de los libros\n",
    "# * Repos\n",
    "# * nº de commits\n",
    "# * Si tienen o no colaboradores\n",
    "\n",
    "import requests\n",
    "import json\n",
    "\n",
    "password = getpass()\n",
    "num_of_pages = 6708\n",
    "\n",
    "r = requests.get('https://api.gitbook.com/author/catedu/books?limit=100', auth=('deleyva', password))\n",
    "with open('books.json', 'w') as file:\n",
    "    file.write(r.text)\n"
   ]
  },
  {
   "cell_type": "code",
   "execution_count": null,
   "metadata": {},
   "outputs": [],
   "source": [
    "# Recabo la información sobre el tráfico de cada libro\n",
    "\n",
    "# Cargo la info los libros en un diccionario\n",
    "import time\n",
    "\n",
    "password = getpass()\n",
    "with open('books.json', 'r') as infile, open('traffic.json', 'w') as outfile:\n",
    "    data = json.load(infile)\n",
    "    \n",
    "    \n",
    "    trafico_libros = {}\n",
    "    counter = 0\n",
    "    for libro in data['list']:\n",
    "        book = {}\n",
    "        traffic_url = 'https://api.gitbook.com/book/catedu/' + libro['name'] + '/traffic?period=1year'\n",
    "        platforms_url = 'https://api.gitbook.com/book/catedu/' + libro['name'] + '/traffic/platforms?period=1year'\n",
    "        book['title'] = str(libro['title'])\n",
    "        print(book['title'])\n",
    "        book['traffic'] = requests.get(traffic_url, auth=('deleyva', password)).json()\n",
    "        book['platforms'] = requests.get(platforms_url, auth=('deleyva', password)).json()\n",
    "        trafico_libros[counter] = book\n",
    "        counter += 1\n",
    "        time.sleep(5)\n",
    "    \n",
    "    json.dump(trafico_libros, outfile)"
   ]
  },
  {
   "cell_type": "code",
   "execution_count": 88,
   "metadata": {},
   "outputs": [
    {
     "name": "stdout",
     "output_type": "stream",
     "text": [
      "Curso básico de hojas de cálculo\n"
     ]
    }
   ],
   "source": [
    "with open('traffic.json', 'r') as infile:\n",
    "    data = json.load(infile)\n",
    "    \n",
    "    print(data['9']['title'])"
   ]
  },
  {
   "cell_type": "code",
   "execution_count": 97,
   "metadata": {},
   "outputs": [
    {
     "name": "stdout",
     "output_type": "stream",
     "text": [
      "['Abiesweb para Usuarios Lectores', 'ABP. Aprendizaje Basado en Proyectos', 'ABP para profesores de FP', 'Alfabetizaciones múltiples, más allá de la lectura', 'App Inventor', 'Aprendizaje colaborativo con Blog', 'ARASAAC', 'Atrévete con Wordpress', 'Convivencia segura en la red.', 'Curso básico de hojas de cálculo', 'Curso de Edmodo', 'Curso de Linux', 'Curso de tutores', 'Curso Duolingo', 'Curso eTwinning', 'Curso para administradores de AbiesWeb', 'Curso Vitalinux', 'Edición de video tutoriales', 'El procedimiento administrativo', 'Enseña pensamiento computacional con Arduino', 'Enseña pensamiento computacional con code.org', 'Enseña pensamiento computacional con Lego Wedo', 'Enseña pensamiento computacional con Scratch', 'Escornabots', 'ExeLearning y otras herramientas', 'FAQ Aularagón', 'Formación de entrada en Educación de Personas Adultas', 'Google Classroom', 'Internet Básico', 'Introducción a Python', 'La enseñanza-aprendizaje de la flauta escolar', 'La radio en la escuela', 'Las TIC en el aula', 'Las TIC en infantil', 'Lengua y Literatura con las TIC', 'Lenguas extranjeras con TIC', 'LibreOffice Base', 'LibreOffice Calc', 'LibreOffice Draw y Math', 'LibreOffice Impress', 'LibreOffice: La suite ofimática libre', 'LibreOffice Writer', 'M5 COFO. EL CENTRO EDUCATIVO Y LA FORMACIÓN DEL PROFESORADO', 'M6 ASESOR: Inteligencia emocional y psicología positiva', 'M6 COFOS', 'Manual de creadores', 'Matemáticas y las TIC', 'Mejorar la sintaxis con las TIC', 'Metodologías activas: Didáctica y evaluación.', 'Módulo 1: Marco básico legislativo', 'Módulo 5: Los centros de formación del profesorado.', 'Módulo 7: Asesores. Comunicación eficaz y oratoria.', 'Monta tu aula de informática con Raspberry Pi', 'Moodle para la enseñanza', 'Narrativa Digital en el Aula', 'Neuropsicología y Dificultados de Aprendizaje', 'Presentaciones con PowerPoint y otras herramientas', 'Primeros auxilios y patologías crónicas', 'Programa arduino con echidna', 'Programa Arduino mediante código', 'Programación orientada a objetos-Java', 'Raspberry muy básico', 'Robótica educativa con mBot', 'Robótica educativa con mBot II', 'Robótica en infantil con Bee-Bot', 'Science Fair Aragon 2018', 'Scratch avanzado y Makey-Makey', 'Scribus: Maqueta visualmente tus contenidos educativos', 'Soportes informáticos para la formación del profesorado', 'Trabajo colaborativo con Google Drive', 'Tratamiento de la imagen para la enseñanza', 'Uso didáctico de la PDI', 'Word avanzado y otras herramientas'] [3, 4, 22, 1, 12, 18, 7, 9, 55, 12, 14, 23, 12, 5, 6, 3, 40, 10, 5, 44, 3, 21, 11, 0, 8, 30, 7, 16, 7, 7, 426, 3, 12, 3, 2, 5, 11, 6, 4, 5, 29, 7, 17, 13, 32, 12, 97, 24, 12, 18, 16, 13, 6, 49, 4, 3, 3, 1, 108, 154, 3, 39, 49, 42, 24, 18, 17, 11, 52, 6, 10, 4, 3]\n"
     ]
    }
   ],
   "source": [
    "import pandas as pd\n",
    "from bokeh.io import output_file, show\n",
    "from bokeh.plotting import figure\n",
    "from bokeh.models import CategoricalColorMapper, HoverTool\n",
    "from bokeh.models.widgets import Tabs, Panel\n",
    "\n",
    "titles = []\n",
    "commits = []\n",
    "with open('books.json', 'r') as infile:\n",
    "    data_books = json.load(infile)\n",
    "    for title in data_books['list']:\n",
    "        titles.append(title['title'])\n",
    "        commits.append(title['counts']['updates'])\n",
    "    \n",
    "p = figure(title='Número de actualizaciones',\n",
    "          x_axis_label='Libros',\n",
    "          y_axis_label='y')\n",
    "p.line(titles, commits, legend=\"Actualizaciones\", line_width=2)\n",
    "output_file('lines.html')\n",
    "show(p)\n",
    "print(titles, commits)"
   ]
  }
 ],
 "metadata": {
  "kernelspec": {
   "display_name": "Python 3",
   "language": "python",
   "name": "python3"
  },
  "language_info": {
   "codemirror_mode": {
    "name": "ipython",
    "version": 3
   },
   "file_extension": ".py",
   "mimetype": "text/x-python",
   "name": "python",
   "nbconvert_exporter": "python",
   "pygments_lexer": "ipython3",
   "version": "3.6.5"
  }
 },
 "nbformat": 4,
 "nbformat_minor": 2
}
