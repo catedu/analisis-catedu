{
 "cells": [
  {
   "cell_type": "markdown",
   "metadata": {},
   "source": [
    "# Creando las estadísticas de los contenidos de CATEDU\n",
    "\n",
    "### Importando los datos\n",
    "\n",
    "_El número de páginas lo saco en local con el siguiente código bash:_\n",
    "\n",
    "```bash\n",
    "tree | grep -c .md$\n",
    "```\n"
   ]
  },
  {
   "cell_type": "code",
   "execution_count": null,
   "metadata": {},
   "outputs": [],
   "source": [
    "# Recabo la información inicial de los libros:\n",
    "# * Título de los libros\n",
    "# * Repos\n",
    "# * nº de commits\n",
    "# * Si tienen o no colaboradores\n",
    "\n",
    "import requests\n",
    "import json\n",
    "\n",
    "password = getpass()\n",
    "num_of_pages = 6708\n",
    "with requests.Session() as session:\n",
    "    #req = session.get('https://api.gitbook.com/book/catedu/atrevete-con-wordpress/traffic/platforms?period=1year', auth=('deleyva', password))\n",
    "    req = session.get('https://api.gitbook.com/book/catedu/atrevete-con-wordpress/traffic', auth=('deleyva', password))\n",
    "    r = session.get('https://api.gitbook.com/author/catedu/books?limit=100', auth=('deleyva', password))\n",
    "    with open('books.json', 'w') as file:\n",
    "        file.write(r.text)\n"
   ]
  },
  {
   "cell_type": "code",
   "execution_count": 55,
   "metadata": {},
   "outputs": [
    {
     "name": "stdout",
     "output_type": "stream",
     "text": [
      "catedu/abiesweb-para-usuarios-lectores\n"
     ]
    }
   ],
   "source": [
    "\n",
    "with open('books.json', 'r') as file:\n",
    "    data = json.load(file)\n",
    "    print(data['list'][0]['id'])\n",
    "\n",
    "    trafico_libros = {}\n",
    "    \n",
    "#    for libro in \n",
    "    \n",
    "    with open('traffic.json', 'a') as file:\n",
    "        file.write('{')\n",
    "        file.write('}')\n",
    "    print(req.text)\n",
    "    print(data)"
   ]
  },
  {
   "cell_type": "code",
   "execution_count": null,
   "metadata": {},
   "outputs": [],
   "source": []
  },
  {
   "cell_type": "code",
   "execution_count": null,
   "metadata": {},
   "outputs": [],
   "source": [
    "#req = requests.get('https://legacy.gitbook.com/book/catedu/atrevete-con-wordpress/traffic?period=1year')\n",
    "#soup = BeautifulSoup(req.text, 'html.parser')\n",
    "#soup.find_all('div', {'class': 'panel-default'})\n",
    "\n",
    "#print('Acutalmente tenemos {} libros en CATEDU.'.format(len(array)))\n",
    "#for i in range(len(array)):\n",
    "    #print('{} actualizaciones en el repositorio {}'.format(array[i]['counts']['updates'], array[i]['title']))\n",
    "    #titles.append(array[i]['title'])\n",
    "\n",
    "#g = Github(\"deleyva\", password)\n",
    "#for repo in g.get_user().get_repos():\n",
    "#    print(repo.name)\n",
    "\n",
    "#r_traffic = requests.get('https://api.gitbook.com/author/catedu/atrevete-con-wordpress/traffic?period=1year')\n",
    "#print(r_traffic.text)"
   ]
  },
  {
   "cell_type": "code",
   "execution_count": 58,
   "metadata": {},
   "outputs": [
    {
     "name": "stdout",
     "output_type": "stream",
     "text": [
      "ABP para profesores de FP\n",
      "ABP. Aprendizaje Basado en Proyectos\n",
      "ARASAAC\n",
      "Abiesweb para Usuarios Lectores\n",
      "App Inventor\n",
      "Aprendizaje colaborativo con Blog\n",
      "Atrévete con Wordpress\n",
      "Convivencia segura en la red.\n",
      "Curso Duolingo\n",
      "Curso Vitalinux\n",
      "Curso básico de hojas de cálculo\n",
      "Curso de Edmodo\n",
      "Curso de Linux\n",
      "Curso de tutores\n",
      "Curso eTwinning\n",
      "Curso para administradores de AbiesWeb\n",
      "Edición de video tutoriales\n",
      "El procedimiento administrativo\n",
      "Enseña pensamiento computacional con Arduino\n",
      "Enseña pensamiento computacional con Lego Wedo\n",
      "Enseña pensamiento computacional con Scratch\n",
      "Enseña pensamiento computacional con code.org\n",
      "Escornabots\n",
      "ExeLearning y otras herramientas\n",
      "FAQ Aularagón\n",
      "Formación de entrada en Educación de Personas Adultas\n",
      "Google Classroom\n",
      "Internet Básico\n",
      "Introducción a Python\n",
      "La enseñanza-aprendizaje de la flauta escolar\n",
      "La radio en la escuela\n",
      "Las TIC en el aula\n",
      "Las TIC en infantil\n",
      "Lengua y Literatura con las TIC\n",
      "Lenguas extranjeras con TIC\n",
      "LibreOffice Base\n",
      "LibreOffice Calc\n",
      "LibreOffice Draw y Math\n",
      "LibreOffice Impress\n",
      "LibreOffice Writer\n",
      "LibreOffice: La suite ofimática libre\n",
      "M5 COFO. EL CENTRO EDUCATIVO Y LA FORMACIÓN DEL PROFESORADO\n",
      "M6 ASESOR: Inteligencia emocional y psicología positiva\n",
      "M6 COFOS\n",
      "Manual de creadores\n",
      "Matemáticas y las TIC\n",
      "Mejorar la sintaxis con las TIC\n",
      "Metodologías activas: Didáctica y evaluación.\n",
      "Monta tu aula de informática con Raspberry Pi\n",
      "Moodle para la enseñanza\n",
      "Módulo 1: Marco básico legislativo\n",
      "Módulo 5: Los centros de formación del profesorado.\n",
      "Módulo 7: Asesores. Comunicación eficaz y oratoria.\n",
      "Narrativa Digital en el Aula\n",
      "Neuropsicología y Dificultados de Aprendizaje\n",
      "Presentaciones con PowerPoint y otras herramientas\n",
      "Primeros auxilios y patologías crónicas\n",
      "Programa Arduino mediante código\n",
      "Programa arduino con echidna\n",
      "Programación orientada a objetos-Java\n",
      "Raspberry muy básico\n",
      "Robótica educativa con mBot\n",
      "Robótica educativa con mBot II\n",
      "Robótica en infantil con Bee-Bot\n",
      "Science Fair Aragon 2018\n",
      "Scratch avanzado y Makey-Makey\n",
      "Scribus: Maqueta visualmente tus contenidos educativos\n",
      "Soportes informáticos para la formación del profesorado\n",
      "Trabajo colaborativo con Google Drive\n",
      "Tratamiento de la imagen para la enseñanza\n",
      "Uso didáctico de la PDI\n",
      "Word avanzado y otras herramientas\n"
     ]
    }
   ],
   "source": [
    "for title in sorted(titles):\n",
    "    print(title)"
   ]
  },
  {
   "cell_type": "code",
   "execution_count": null,
   "metadata": {},
   "outputs": [],
   "source": [
    "import pandas as pd\n",
    "from bokeh.io import output_file, show\n",
    "from bokeh.plotting import figure\n",
    "from bokeh.models import CategoricalColorMapper, HoverTool\n",
    "from bokeh.models.widgets import Tabs, Panel\n"
   ]
  }
 ],
 "metadata": {
  "kernelspec": {
   "display_name": "Python 3",
   "language": "python",
   "name": "python3"
  },
  "language_info": {
   "codemirror_mode": {
    "name": "ipython",
    "version": 3
   },
   "file_extension": ".py",
   "mimetype": "text/x-python",
   "name": "python",
   "nbconvert_exporter": "python",
   "pygments_lexer": "ipython3",
   "version": "3.6.5"
  }
 },
 "nbformat": 4,
 "nbformat_minor": 2
}
